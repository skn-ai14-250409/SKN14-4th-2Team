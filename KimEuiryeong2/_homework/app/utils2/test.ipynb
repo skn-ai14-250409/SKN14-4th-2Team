{
 "cells": [
  {
   "cell_type": "code",
   "id": "initial_id",
   "metadata": {
    "collapsed": true,
    "ExecuteTime": {
     "end_time": "2025-07-31T14:04:32.890781Z",
     "start_time": "2025-07-31T14:04:13.885371Z"
    }
   },
   "source": "from jembot.utils2.stock_node import handle_analysis_node",
   "outputs": [
    {
     "name": "stdout",
     "output_type": "stream",
     "text": [
      "C:\\Users\\miny0\\Downloads\\django_vibe2-20250731T133425Z-1-001\\django_vibe2\\_01_django_jembot\\jembot\\utils2\\faiss_index3 C:\\Users\\miny0\\Downloads\\django_vibe2-20250731T133425Z-1-001\\django_vibe2\\_01_django_jembot\\jembot\\utils2\\faiss_index_bge_m3\n"
     ]
    }
   ],
   "execution_count": 9
  },
  {
   "metadata": {
    "ExecuteTime": {
     "end_time": "2025-07-31T14:04:53.518404Z",
     "start_time": "2025-07-31T14:04:34.892183Z"
    }
   },
   "cell_type": "code",
   "source": [
    "answer = handle_analysis_node('삼성전자')\n",
    "\n",
    "print(answer)"
   ],
   "id": "436c7e06558edc44",
   "outputs": [
    {
     "name": "stdout",
     "output_type": "stream",
     "text": [
      "## 1. 핵심 요약\n",
      "삼성전자는 2024년 1분기 동안 매출액 300,870억 원, 영업이익 32,726억 원, 당기순이익 34,451억 원을 기록하며 전년 동기 대비 실적이 크게 개선되었습니다. 이는 글로벌 전자 시장에서의 강력한 입지와 다양한 사업 부문에서의 성과가 반영된 결과입니다.\n",
      "\n",
      "## 2. 사업 현황 분석\n",
      "삼성전자는 DX(Device eXperience), DS(Device Solutions), SDC(Samsung Display Corporation), 그리고 Harman 부문으로 구성된 글로벌 전자 기업입니다. DX 부문은 TV, 스마트폰, 가전제품 등 다양한 소비자 전자제품을 생산 및 판매하며, DS 부문은 DRAM, NAND Flash 등 반도체 제품을 주력으로 하고 있습니다. SDC는 스마트폰용 OLED 패널을, Harman은 커넥티드카 솔루션을 제공합니다. 이러한 다양한 사업 포트폴리오는 삼성전자가 시장에서의 경쟁력을 유지하는 데 기여하고 있으며, 특히 반도체와 디스플레이 부문에서의 기술적 우위가 두드러집니다.\n",
      "\n",
      "## 3. 재무 성과 분석\n",
      "2024년 1분기 삼성전자의 매출액은 300,870억 원으로 전년 동기 대비 16.2% 증가하였으며, 영업이익은 32,726억 원으로 398.3% 증가하였습니다. 당기순이익은 34,451억 원으로 122.5% 증가하여 수익성이 크게 개선되었습니다. 이는 매출원가와 판매비 및 관리비의 효율적 관리에 기인한 것으로 보입니다. 부채비율은 27.9%로 안정적인 수준을 유지하고 있으며, 영업활동현금흐름은 72,983억 원으로 전년 대비 65.3% 증가하여 현금 창출 능력이 강화되었습니다.\n",
      "\n",
      "## 4. 종합 판단 및 시사점\n",
      "삼성전자는 다양한 사업 부문에서의 강력한 성과와 효율적인 비용 관리로 인해 2024년 1분기 실적이 크게 개선되었습니다. 특히 반도체와 디스플레이 부문에서의 기술적 우위는 향후 지속적인 성장의 기반이 될 것입니다. 그러나 글로벌 경제 불확실성과 반도체 시장의 변동성은 주의해야 할 리스크로 작용할 수 있습니다. 향후 삼성전자는 기술 혁신과 시장 다변화를 통해 이러한 리스크를 완화하고, 지속 가능한 성장을 도모할 것으로 예상됩니다.\n"
     ]
    }
   ],
   "execution_count": 10
  }
 ],
 "metadata": {
  "kernelspec": {
   "display_name": "Python 3",
   "language": "python",
   "name": "python3"
  },
  "language_info": {
   "codemirror_mode": {
    "name": "ipython",
    "version": 2
   },
   "file_extension": ".py",
   "mimetype": "text/x-python",
   "name": "python",
   "nbconvert_exporter": "python",
   "pygments_lexer": "ipython2",
   "version": "2.7.6"
  }
 },
 "nbformat": 4,
 "nbformat_minor": 5
}
